{
 "cells": [
  {
   "cell_type": "code",
   "execution_count": 6,
   "id": "39faa553-78d1-465a-8afe-16f7b805d205",
   "metadata": {},
   "outputs": [
    {
     "ename": "FileExistsError",
     "evalue": "[WinError 183] Cannot create a file when that file already exists: 'data/randomised_data'",
     "output_type": "error",
     "traceback": [
      "\u001b[1;31m---------------------------------------------------------------------------\u001b[0m",
      "\u001b[1;31mFileExistsError\u001b[0m                           Traceback (most recent call last)",
      "Cell \u001b[1;32mIn[6], line 54\u001b[0m\n\u001b[0;32m     51\u001b[0m     randomised_data \u001b[38;5;241m=\u001b[39m pd\u001b[38;5;241m.\u001b[39mconcat([randomised_data, group\u001b[38;5;241m.\u001b[39mhead(\u001b[38;5;241m1557\u001b[39m)])\n\u001b[0;32m     53\u001b[0m \u001b[38;5;66;03m# making separate directory for this randomised data\u001b[39;00m\n\u001b[1;32m---> 54\u001b[0m \u001b[43mos\u001b[49m\u001b[38;5;241;43m.\u001b[39;49m\u001b[43mmkdir\u001b[49m\u001b[43m(\u001b[49m\u001b[38;5;124;43m'\u001b[39;49m\u001b[38;5;124;43mdata/randomised_data\u001b[39;49m\u001b[38;5;124;43m'\u001b[39;49m\u001b[43m)\u001b[49m\n\u001b[0;32m     55\u001b[0m \u001b[38;5;28;01mfor\u001b[39;00m index, row \u001b[38;5;129;01min\u001b[39;00m randomised_data\u001b[38;5;241m.\u001b[39miterrows():\n\u001b[0;32m     56\u001b[0m     file_path \u001b[38;5;241m=\u001b[39m row[\u001b[38;5;124m'\u001b[39m\u001b[38;5;124mfile_path\u001b[39m\u001b[38;5;124m'\u001b[39m]\n",
      "\u001b[1;31mFileExistsError\u001b[0m: [WinError 183] Cannot create a file when that file already exists: 'data/randomised_data'"
     ]
    }
   ],
   "source": [
    "import os\n",
    "import shutil\n",
    "import pandas as pd\n",
    "import numpy as np\n",
    "import math\n",
    "\n",
    "# Define the path to the data directory\n",
    "data_dir = 'data/data'\n",
    "\n",
    "# Initialize lists to store file paths and labels\n",
    "file_paths = []\n",
    "labels = []\n",
    "\n",
    "#Used this code to get files count. min = 1557 and (similarly) max = 4052 : \n",
    "# import os\n",
    "# mini = 1000000\n",
    "# for folder in os.listdir('assignment2/data/data'):\n",
    "# ...     folder_path = os.path.join('assignment2/data/data' , folder)\n",
    "# ...     if folder == '_background_noise_':\n",
    "# ...             continue\n",
    "# ...     num_files = len(os.listdir(folder_path))\n",
    "# ...     mini = min(num_files , mini)\n",
    "# ...\n",
    "# >>> print(mini)\n",
    "\n",
    "# Loop through each folder in the data directory\n",
    "for folder in os.listdir(data_dir):\n",
    "    folder_path = os.path.join(data_dir, folder)\n",
    "    \n",
    "    # Check if the path is a directory\n",
    "    if os.path.isdir(folder_path):\n",
    "        # Loop through each audio file in the folder\n",
    "        for audio_file in os.listdir(folder_path):\n",
    "            audio_path = os.path.join(folder_path, audio_file)\n",
    "            \n",
    "            # Check if the file is an audio file (e.g., .wav, .mp3)\n",
    "            if audio_file.endswith(('.wav', '.mp3')):\n",
    "                file_paths.append(audio_path)\n",
    "                labels.append(folder)\n",
    "\n",
    "# Convert lists to DataFrame for easier handling\n",
    "df = pd.DataFrame({'file_path': file_paths, 'label': labels})\n",
    "\n",
    "# Group by labels\n",
    "grouped = df.groupby('label')\n",
    "randomised_data = pd.DataFrame(columns = ['file_path' , 'label'])\n",
    "\n",
    "\n",
    "for label , group in grouped: \n",
    "    group = group.sample(frac=1, random_state=42).reset_index(drop=True)\n",
    "    randomised_data = pd.concat([randomised_data, group.head(1557)])\n",
    "\n",
    "# making separate directory for this randomised data\n",
    "os.mkdir('data/randomised_data')\n",
    "for index, row in randomised_data.iterrows():\n",
    "    file_path = row['file_path']\n",
    "    label = row['label']\n",
    "    destination = os.path.join('data/randomised_data', label)\n",
    "    if not os.path.exists(destination):\n",
    "        os.makedirs(destination)\n",
    "    shutil.copy(file_path, destination)\n"
   ]
  },
  {
   "cell_type": "code",
   "execution_count": 7,
   "id": "76ba3495-c6d3-4b0a-b6cb-6570dfabe3dc",
   "metadata": {},
   "outputs": [
    {
     "name": "stdout",
     "output_type": "stream",
     "text": [
      "(24906, 2)\n",
      "(6246, 2)\n"
     ]
    }
   ],
   "source": [
    "#now splitting for train-test\n",
    "train = pd.DataFrame(columns = ['file_path' , 'label'])\n",
    "test = pd.DataFrame(columns = ['file_path' , 'label'])\n",
    "train_indices = math.floor(1557 * 0.8)\n",
    "\n",
    "\n",
    "for label , group in randomised_data.groupby('label'):\n",
    "    train = pd.concat([train, group.head(train_indices)])\n",
    "    test = pd.concat([test, group.tail(1557 - train_indices)])\n",
    "\n",
    "\n",
    "print(train.shape)\n",
    "print(test.shape)"
   ]
  },
  {
   "cell_type": "code",
   "execution_count": null,
   "id": "0d554a9a",
   "metadata": {},
   "outputs": [],
   "source": []
  }
 ],
 "metadata": {
  "kernelspec": {
   "display_name": "Python 3 (ipykernel)",
   "language": "python",
   "name": "python3"
  },
  "language_info": {
   "codemirror_mode": {
    "name": "ipython",
    "version": 3
   },
   "file_extension": ".py",
   "mimetype": "text/x-python",
   "name": "python",
   "nbconvert_exporter": "python",
   "pygments_lexer": "ipython3",
   "version": "3.12.1"
  }
 },
 "nbformat": 4,
 "nbformat_minor": 5
}
